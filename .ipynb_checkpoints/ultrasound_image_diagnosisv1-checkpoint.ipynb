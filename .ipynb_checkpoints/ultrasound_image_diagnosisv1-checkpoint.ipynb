{
 "cells": [
  {
   "cell_type": "code",
   "execution_count": 132,
   "id": "c8accd06",
   "metadata": {},
   "outputs": [],
   "source": [
    "import numpy as np\n",
    "# navigating in directories\n",
    "import os\n",
    "import PIL\n",
    "import PIL.Image\n",
    "import tensorflow as tf\n",
    "import tensorflow_datasets as tfds\n",
    "import imghdr\n",
    "from matplotlib import pyplot as plt\n",
    "import cv2\n",
    "import numpy as np\n"
   ]
  },
  {
   "cell_type": "code",
   "execution_count": 133,
   "id": "6201a00d",
   "metadata": {},
   "outputs": [],
   "source": [
    "# Mitigate OOM errors to avoid tensorflow from utilizing all resources\n",
    "gpus = tf.config.experimental.list_physical_devices('GPU')\n",
    "# loop through potential GPUs \n",
    "#limit resource memory usage\n",
    "for gpu in gpus:\n",
    "    tf.config.experimental.set_memory_growth(gpu,True)"
   ]
  },
  {
   "cell_type": "code",
   "execution_count": 134,
   "id": "c1a2cc35",
   "metadata": {},
   "outputs": [],
   "source": [
    "# create variable that points to our data\n",
    "data_directory =  'datasets'"
   ]
  },
  {
   "cell_type": "code",
   "execution_count": 135,
   "id": "ad448b15",
   "metadata": {},
   "outputs": [
    {
     "data": {
      "text/plain": [
       "['dataset2', 'dataset1']"
      ]
     },
     "execution_count": 135,
     "metadata": {},
     "output_type": "execute_result"
    }
   ],
   "source": [
    "# List directories with datasets\n",
    "os.listdir(data_directory)"
   ]
  },
  {
   "cell_type": "code",
   "execution_count": 136,
   "id": "10d6b00a",
   "metadata": {},
   "outputs": [],
   "source": [
    "# Image extensions\n",
    "image_extensions = ['png']"
   ]
  },
  {
   "cell_type": "code",
   "execution_count": 137,
   "id": "c71e10cb",
   "metadata": {},
   "outputs": [
    {
     "data": {
      "text/plain": [
       "['png']"
      ]
     },
     "execution_count": 137,
     "metadata": {},
     "output_type": "execute_result"
    }
   ],
   "source": [
    "# Print image extensions were going to use\n",
    "image_extensions"
   ]
  },
  {
   "cell_type": "code",
   "execution_count": 138,
   "id": "700bb730",
   "metadata": {},
   "outputs": [
    {
     "data": {
      "text/plain": [
       "['sick_118.png',\n",
       " 'normal_75.png',\n",
       " 'normal_159.png',\n",
       " 'normal_224.png',\n",
       " 'sick_334.png',\n",
       " 'sick_170.png',\n",
       " 'normal_662.png',\n",
       " 'sick_296.png',\n",
       " 'normal_149.png',\n",
       " 'sick_360.png']"
      ]
     },
     "execution_count": 138,
     "metadata": {},
     "output_type": "execute_result"
    }
   ],
   "source": [
    "# List images in dataset1 Knowwn images\n",
    "dataset_1_image_files_known = os.listdir(os.path.join(data_directory,'dataset1/known_images'))\n",
    "# print dataset files\n",
    "dataset_1_image_files_known[:10]"
   ]
  },
  {
   "cell_type": "code",
   "execution_count": 139,
   "id": "dac3e131",
   "metadata": {},
   "outputs": [
    {
     "data": {
      "text/plain": [
       "['42.png',\n",
       " '22.png',\n",
       " '48.png',\n",
       " '6.png',\n",
       " '44.png',\n",
       " '24.png',\n",
       " '5.png',\n",
       " '47.png',\n",
       " '25.png',\n",
       " '14.png']"
      ]
     },
     "execution_count": 139,
     "metadata": {},
     "output_type": "execute_result"
    }
   ],
   "source": [
    "# List images in dataset1 Unknown images\n",
    "dataset_1_image_files_unknown = os.listdir(os.path.join(data_directory,'dataset1/unknown_images'))\n",
    "# print dataset files\n",
    "dataset_1_image_files_unknown[:10]"
   ]
  },
  {
   "cell_type": "code",
   "execution_count": null,
   "id": "25e89efe",
   "metadata": {},
   "outputs": [],
   "source": []
  },
  {
   "cell_type": "code",
   "execution_count": null,
   "id": "d4563754",
   "metadata": {},
   "outputs": [],
   "source": []
  },
  {
   "cell_type": "code",
   "execution_count": null,
   "id": "0a8871d6",
   "metadata": {},
   "outputs": [],
   "source": []
  },
  {
   "cell_type": "code",
   "execution_count": null,
   "id": "d5b20859",
   "metadata": {},
   "outputs": [],
   "source": []
  }
 ],
 "metadata": {
  "kernelspec": {
   "display_name": "Python 3 (ipykernel)",
   "language": "python",
   "name": "python3"
  },
  "language_info": {
   "codemirror_mode": {
    "name": "ipython",
    "version": 3
   },
   "file_extension": ".py",
   "mimetype": "text/x-python",
   "name": "python",
   "nbconvert_exporter": "python",
   "pygments_lexer": "ipython3",
   "version": "3.8.10"
  }
 },
 "nbformat": 4,
 "nbformat_minor": 5
}
