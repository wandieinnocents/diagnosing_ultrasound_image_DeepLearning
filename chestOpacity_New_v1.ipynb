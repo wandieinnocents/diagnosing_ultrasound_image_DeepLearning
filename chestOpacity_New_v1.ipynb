{
  "nbformat": 4,
  "nbformat_minor": 0,
  "metadata": {
    "colab": {
      "name": "chestOpacity_New_v1.ipynb",
      "provenance": [],
      "collapsed_sections": [],
      "authorship_tag": "ABX9TyPe5kfR2BEEIn4Obr2rUXir",
      "include_colab_link": true
    },
    "kernelspec": {
      "name": "python3",
      "display_name": "Python 3"
    },
    "language_info": {
      "name": "python"
    }
  },
  "cells": [
    {
      "cell_type": "markdown",
      "metadata": {
        "id": "view-in-github",
        "colab_type": "text"
      },
      "source": [
        "<a href=\"https://colab.research.google.com/github/wandieinnocents/diagnosing_ultrasound_image_DeepLearning/blob/main/chestOpacity_New_v1.ipynb\" target=\"_parent\"><img src=\"https://colab.research.google.com/assets/colab-badge.svg\" alt=\"Open In Colab\"/></a>"
      ]
    },
    {
      "cell_type": "markdown",
      "source": [
        "**CLONING THE GITHUB REPOSITORY**"
      ],
      "metadata": {
        "id": "HbxBu6Rxwk8L"
      }
    },
    {
      "cell_type": "code",
      "source": [
        "!git clone https://github.com/wandieinnocents/diagnosing_ultrasound_image_DeepLearning.git"
      ],
      "metadata": {
        "colab": {
          "base_uri": "https://localhost:8080/"
        },
        "id": "LRlwyqwewlXc",
        "outputId": "7ce2515e-6d74-4a67-b08c-336635d7382e"
      },
      "execution_count": 2,
      "outputs": [
        {
          "output_type": "stream",
          "name": "stdout",
          "text": [
            "Cloning into 'diagnosing_ultrasound_image_DeepLearning'...\n",
            "fatal: could not read Username for 'https://github.com': No such device or address\n"
          ]
        }
      ]
    }
  ]
}